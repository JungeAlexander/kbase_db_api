{
 "cells": [
  {
   "cell_type": "code",
   "execution_count": null,
   "metadata": {},
   "outputs": [],
   "source": [
    "import json\n",
    "import requests"
   ]
  },
  {
   "cell_type": "code",
   "execution_count": null,
   "metadata": {},
   "outputs": [],
   "source": [
    "github_articles = []\n",
    "for offset in range(0, 100000, 1000):\n",
    "    query = f\"https://p55oroem7k.execute-api.eu-west-1.amazonaws.com/prod/articles/?skip={offset}&limit=1000\"\n",
    "    res = requests.get(query).json()\n",
    "    print(query + \" -- \" + str(len(res)))\n",
    "    for a in res:\n",
    "        if \"github\" in a[\"summary\"].lower():\n",
    "            github_articles.append(a)"
   ]
  },
  {
   "cell_type": "code",
   "execution_count": null,
   "metadata": {},
   "outputs": [],
   "source": [
    "len(github_articles)"
   ]
  },
  {
   "cell_type": "code",
   "execution_count": null,
   "metadata": {},
   "outputs": [],
   "source": [
    "with open(\"github_articles.json\", \"w\") as fout:\n",
    "    json.dump(github_articles, fout)"
   ]
  },
  {
   "cell_type": "code",
   "execution_count": null,
   "metadata": {},
   "outputs": [],
   "source": [
    "with open(\"github_articles.json\", \"r\") as fin:\n",
    "    github_articles = json.load(fin)"
   ]
  },
  {
   "cell_type": "code",
   "execution_count": null,
   "metadata": {},
   "outputs": [],
   "source": [
    "len(github_articles)"
   ]
  },
  {
   "cell_type": "markdown",
   "metadata": {},
   "source": [
    "## Async IO version"
   ]
  },
  {
   "cell_type": "code",
   "execution_count": null,
   "metadata": {},
   "outputs": [],
   "source": [
    "import asyncio\n",
    "import httpx\n",
    "\n",
    "async def request_one(offset, client):\n",
    "    url = f\"https://p55oroem7k.execute-api.eu-west-1.amazonaws.com/prod/articles/?skip={offset}&limit=1000\"\n",
    "    resp = await client.get(url, timeout=30)\n",
    "    resp = resp.json()\n",
    "    gh_articles = []\n",
    "    try:\n",
    "        for a in resp:\n",
    "            if \"github\" in a[\"summary\"].lower():\n",
    "                gh_articles.append(a)\n",
    "        return gh_articles\n",
    "    except TypeError as e:\n",
    "        print(resp)\n",
    "        raise(e)\n",
    "\n",
    "async def perform_requests():\n",
    "    async with httpx.AsyncClient() as client:\n",
    "        tasks = []\n",
    "        for offset in range(0, 98000, 1000):\n",
    "            tasks.append(\n",
    "                request_one(offset=offset, client=client)\n",
    "            )\n",
    "        res = await asyncio.gather(*tasks)\n",
    "    return res"
   ]
  },
  {
   "cell_type": "code",
   "execution_count": null,
   "metadata": {},
   "outputs": [],
   "source": [
    "results = await perform_requests()\n",
    "gh_articles = [a for r in results for a in r]"
   ]
  }
 ],
 "metadata": {
  "kernelspec": {
   "display_name": "Python 3",
   "language": "python",
   "name": "python3"
  },
  "language_info": {
   "codemirror_mode": {
    "name": "ipython",
    "version": 3
   },
   "file_extension": ".py",
   "mimetype": "text/x-python",
   "name": "python",
   "nbconvert_exporter": "python",
   "pygments_lexer": "ipython3",
   "version": "3.8.2"
  }
 },
 "nbformat": 4,
 "nbformat_minor": 4
}
