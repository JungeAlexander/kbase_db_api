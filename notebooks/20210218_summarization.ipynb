{
 "cells": [
  {
   "cell_type": "markdown",
   "id": "extended-hearing",
   "metadata": {},
   "source": [
    "# Summarization using hf transformers"
   ]
  },
  {
   "cell_type": "markdown",
   "id": "expressed-structure",
   "metadata": {},
   "source": [
    "## Get API tokens"
   ]
  },
  {
   "cell_type": "code",
   "execution_count": null,
   "id": "atmospheric-accordance",
   "metadata": {},
   "outputs": [],
   "source": [
    "import os\n",
    "import urllib.parse\n",
    "\n",
    "from dotenv import load_dotenv\n",
    "import requests"
   ]
  },
  {
   "cell_type": "code",
   "execution_count": null,
   "id": "seven-reasoning",
   "metadata": {},
   "outputs": [],
   "source": [
    "load_dotenv(\"../aws.env\")"
   ]
  },
  {
   "cell_type": "code",
   "execution_count": null,
   "id": "continental-testimony",
   "metadata": {},
   "outputs": [],
   "source": [
    "api_url = urllib.parse.urljoin(os.environ[\"DBAPI_URL\"], os.environ[\"DBAPI_STAGE\"])"
   ]
  },
  {
   "cell_type": "code",
   "execution_count": null,
   "id": "effective-drill",
   "metadata": {},
   "outputs": [],
   "source": [
    "login_data = {\n",
    "    \"username\": os.environ[\"FIRST_USER\"],\n",
    "    \"password\": os.environ[\"FIRST_USER_PASSWORD\"],\n",
    "}\n",
    "r = requests.post(f\"{api_url}/token\", data=login_data)\n",
    "tokens = r.json()\n",
    "a_token = tokens[\"access_token\"]\n",
    "token_headers = {\"Authorization\": f\"Bearer {a_token}\"}"
   ]
  },
  {
   "cell_type": "markdown",
   "id": "expired-mistake",
   "metadata": {},
   "source": [
    "## Get a document"
   ]
  },
  {
   "cell_type": "code",
   "execution_count": null,
   "id": "isolated-gnome",
   "metadata": {},
   "outputs": [],
   "source": [
    "r = requests.get(f\"{api_url}/documents/ids/?skip=0&limit=1\", headers=token_headers)\n",
    "doc_id = r.json()[0][\"id\"]"
   ]
  },
  {
   "cell_type": "code",
   "execution_count": null,
   "id": "departmental-sydney",
   "metadata": {},
   "outputs": [],
   "source": [
    "r = requests.get(f\"{api_url}/documents/{doc_id}\", headers=token_headers)\n",
    "doc = r.json()"
   ]
  },
  {
   "cell_type": "code",
   "execution_count": null,
   "id": "occasional-factor",
   "metadata": {},
   "outputs": [],
   "source": [
    "text = doc[\"parsed_text\"]"
   ]
  },
  {
   "cell_type": "markdown",
   "id": "loving-calibration",
   "metadata": {},
   "source": [
    "## Generate summaries"
   ]
  },
  {
   "cell_type": "code",
   "execution_count": null,
   "id": "demonstrated-purpose",
   "metadata": {},
   "outputs": [],
   "source": [
    "from transformers import AutoModelWithLMHead, AutoTokenizer, BartTokenizer, BartForConditionalGeneration, BartConfig"
   ]
  },
  {
   "cell_type": "markdown",
   "id": "attended-quilt",
   "metadata": {},
   "source": [
    "### BART"
   ]
  },
  {
   "cell_type": "code",
   "execution_count": null,
   "id": "dirty-karma",
   "metadata": {},
   "outputs": [],
   "source": [
    "model = BartForConditionalGeneration.from_pretrained('facebook/bart-large')\n",
    "tokenizer = BartTokenizer.from_pretrained('facebook/bart-large')"
   ]
  },
  {
   "cell_type": "code",
   "execution_count": null,
   "id": "accredited-uganda",
   "metadata": {},
   "outputs": [],
   "source": [
    "inputs = tokenizer([text], max_length=1024, return_tensors='pt')\n",
    "summary_ids = model.generate(inputs['input_ids'], num_beams=4, max_length=5, early_stopping=True)"
   ]
  },
  {
   "cell_type": "code",
   "execution_count": null,
   "id": "underlying-mouse",
   "metadata": {},
   "outputs": [],
   "source": [
    "[tokenizer.decode(g, skip_special_tokens=True, clean_up_tokenization_spaces=False) for g in summary_ids]"
   ]
  },
  {
   "cell_type": "markdown",
   "id": "searching-myanmar",
   "metadata": {},
   "source": [
    "### T5"
   ]
  },
  {
   "cell_type": "code",
   "execution_count": null,
   "id": "fourth-nebraska",
   "metadata": {},
   "outputs": [],
   "source": [
    "t5_model = AutoModelWithLMHead.from_pretrained(\"t5-base\")\n",
    "t5_tokenizer = AutoTokenizer.from_pretrained(\"t5-base\")"
   ]
  },
  {
   "cell_type": "code",
   "execution_count": null,
   "id": "signed-torture",
   "metadata": {},
   "outputs": [],
   "source": [
    "# T5 uses a max_length of 512 so we cut the article to 512 tokens.\n",
    "inputs = t5_tokenizer.encode(\"summarize: \" + text, return_tensors=\"pt\", max_length=512)\n",
    "outputs = t5_model.generate(inputs, max_length=150, min_length=40, length_penalty=2.0, num_beams=4, early_stopping=True)\n",
    "t5_tokenizer.convert_tokens_to_string(t5_tokenizer.convert_ids_to_tokens(outputs[0]))"
   ]
  }
 ],
 "metadata": {
  "kernelspec": {
   "display_name": "Python 3",
   "language": "python",
   "name": "python3"
  },
  "language_info": {
   "codemirror_mode": {
    "name": "ipython",
    "version": 3
   },
   "file_extension": ".py",
   "mimetype": "text/x-python",
   "name": "python",
   "nbconvert_exporter": "python",
   "pygments_lexer": "ipython3",
   "version": "3.8.2"
  }
 },
 "nbformat": 4,
 "nbformat_minor": 5
}
