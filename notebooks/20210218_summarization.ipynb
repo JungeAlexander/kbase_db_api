{
 "cells": [
  {
   "cell_type": "markdown",
   "id": "respiratory-citizen",
   "metadata": {},
   "source": [
    "## Get API tokens"
   ]
  },
  {
   "cell_type": "code",
   "execution_count": null,
   "id": "intimate-helicopter",
   "metadata": {},
   "outputs": [],
   "source": [
    "import os\n",
    "import urllib.parse\n",
    "\n",
    "from dotenv import load_dotenv\n",
    "import requests"
   ]
  },
  {
   "cell_type": "code",
   "execution_count": null,
   "id": "super-correlation",
   "metadata": {},
   "outputs": [],
   "source": [
    "load_dotenv(\"../aws.env\")"
   ]
  },
  {
   "cell_type": "code",
   "execution_count": null,
   "id": "impressive-eligibility",
   "metadata": {},
   "outputs": [],
   "source": [
    "api_url = urllib.parse.urljoin(os.environ[\"DBAPI_URL\"], os.environ[\"DBAPI_STAGE\"])"
   ]
  },
  {
   "cell_type": "code",
   "execution_count": null,
   "id": "cross-armstrong",
   "metadata": {},
   "outputs": [],
   "source": [
    "login_data = {\n",
    "    \"username\": os.environ[\"FIRST_USER\"],\n",
    "    \"password\": os.environ[\"FIRST_USER_PASSWORD\"],\n",
    "}\n",
    "r = requests.post(f\"{api_url}/token\", data=login_data)\n",
    "tokens = r.json()\n",
    "a_token = tokens[\"access_token\"]\n",
    "token_headers = {\"Authorization\": f\"Bearer {a_token}\"}"
   ]
  },
  {
   "cell_type": "code",
   "execution_count": null,
   "id": "formal-monster",
   "metadata": {},
   "outputs": [],
   "source": [
    "# TODO? turn this into a decorator that can be used as a utility function,\n",
    "# maybe taking a user prefix and providing token headers"
   ]
  },
  {
   "cell_type": "markdown",
   "id": "least-elimination",
   "metadata": {},
   "source": [
    "## Get a document from kbase"
   ]
  },
  {
   "cell_type": "code",
   "execution_count": null,
   "id": "unnecessary-madonna",
   "metadata": {},
   "outputs": [],
   "source": [
    "r = requests.get(f\"{api_url}/documents/ids/?skip=0&limit=1\", headers=token_headers)\n",
    "doc_id = r.json()[0][\"id\"]"
   ]
  },
  {
   "cell_type": "code",
   "execution_count": null,
   "id": "earlier-monitor",
   "metadata": {},
   "outputs": [],
   "source": [
    "r = requests.get(f\"{api_url}/documents/{doc_id}\", headers=token_headers)\n",
    "doc = r.json()"
   ]
  },
  {
   "cell_type": "code",
   "execution_count": null,
   "id": "progressive-immune",
   "metadata": {},
   "outputs": [],
   "source": [
    "text = doc[\"parsed_text\"]"
   ]
  },
  {
   "cell_type": "markdown",
   "id": "mature-glass",
   "metadata": {},
   "source": [
    "## Generate summaries"
   ]
  },
  {
   "cell_type": "code",
   "execution_count": null,
   "id": "concrete-atmosphere",
   "metadata": {},
   "outputs": [],
   "source": [
    "from transformers import AutoTokenizer, AutoModel"
   ]
  },
  {
   "cell_type": "code",
   "execution_count": null,
   "id": "spatial-found",
   "metadata": {},
   "outputs": [],
   "source": [
    "bart_tokenizer = AutoTokenizer.from_pretrained(\"facebook/bart-large-cnn\")\n",
    "bart_model = AutoModel.from_pretrained(\"facebook/bart-large-cnn\")"
   ]
  },
  {
   "cell_type": "code",
   "execution_count": null,
   "id": "approved-sleep",
   "metadata": {},
   "outputs": [],
   "source": [
    "inputs = bart_tokenizer([text], max_length=1024, return_tensors='pt')\n",
    "summary_ids = bart_model.generate(inputs['input_ids'], num_beams=4, max_length=5, early_stopping=True)"
   ]
  },
  {
   "cell_type": "code",
   "execution_count": null,
   "id": "mature-albuquerque",
   "metadata": {},
   "outputs": [],
   "source": [
    "# from transformers import BartTokenizer, BartForConditionalGeneration, BartConfig\n",
    "# model = BartForConditionalGeneration.from_pretrained('facebook/bart-large')\n",
    "# tokenizer = BartTokenizer.from_pretrained('facebook/bart-large')\n",
    "# ARTICLE_TO_SUMMARIZE = \"My friends are cool but they eat too many carbs.\"\n",
    "# inputs = tokenizer([ARTICLE_TO_SUMMARIZE], max_length=1024, return_tensors='pt')\n",
    "# # Generate Summary\n",
    "# summary_ids = model.generate(inputs['input_ids'], num_beams=4, max_length=5, early_stopping=True)\n",
    "# print([tokenizer.decode(g, skip_special_tokens=True, clean_up_tokenization_spaces=False) for g in summary_ids])"
   ]
  },
  {
   "cell_type": "code",
   "execution_count": null,
   "id": "maritime-instrument",
   "metadata": {},
   "outputs": [],
   "source": [
    "from transformers import AutoModelWithLMHead"
   ]
  },
  {
   "cell_type": "code",
   "execution_count": null,
   "id": "smart-pharmacology",
   "metadata": {},
   "outputs": [],
   "source": [
    "t5_model = AutoModelWithLMHead.from_pretrained(\"t5-base\")\n",
    "t5_tokenizer = AutoTokenizer.from_pretrained(\"t5-base\")"
   ]
  },
  {
   "cell_type": "code",
   "execution_count": null,
   "id": "ahead-bowling",
   "metadata": {},
   "outputs": [],
   "source": [
    "# T5 uses a max_length of 512 so we cut the article to 512 tokens.\n",
    "inputs = t5_tokenizer.encode(\"summarize: \" + text, return_tensors=\"pt\", max_length=512)\n",
    "outputs = t5_model.generate(inputs, max_length=150, min_length=40, length_penalty=2.0, num_beams=4, early_stopping=True)"
   ]
  },
  {
   "cell_type": "code",
   "execution_count": null,
   "id": "measured-haiti",
   "metadata": {},
   "outputs": [],
   "source": [
    "outputs"
   ]
  },
  {
   "cell_type": "code",
   "execution_count": null,
   "id": "valuable-dynamics",
   "metadata": {},
   "outputs": [],
   "source": [
    "t5_tokenizer.convert_tokens_to_string(t5_tokenizer.convert_ids_to_tokens(outputs[0]))"
   ]
  },
  {
   "cell_type": "code",
   "execution_count": null,
   "id": "invisible-turning",
   "metadata": {},
   "outputs": [],
   "source": [
    "# TODO summarize everything that is not transcript"
   ]
  }
 ],
 "metadata": {
  "kernelspec": {
   "display_name": "Python 3",
   "language": "python",
   "name": "python3"
  },
  "language_info": {
   "codemirror_mode": {
    "name": "ipython",
    "version": 3
   },
   "file_extension": ".py",
   "mimetype": "text/x-python",
   "name": "python",
   "nbconvert_exporter": "python",
   "pygments_lexer": "ipython3",
   "version": "3.8.2"
  }
 },
 "nbformat": 4,
 "nbformat_minor": 5
}
