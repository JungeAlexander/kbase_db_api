{
 "cells": [
  {
   "cell_type": "markdown",
   "metadata": {},
   "source": [
    "# Create an account and access token for apps etc."
   ]
  },
  {
   "cell_type": "code",
   "execution_count": null,
   "metadata": {},
   "outputs": [],
   "source": [
    "import os\n",
    "\n",
    "from dotenv import load_dotenv\n",
    "import requests"
   ]
  },
  {
   "cell_type": "code",
   "execution_count": null,
   "metadata": {},
   "outputs": [],
   "source": [
    "api_url = \"http://127.0.0.1:8000\""
   ]
  },
  {
   "cell_type": "code",
   "execution_count": null,
   "metadata": {},
   "outputs": [],
   "source": [
    "load_dotenv(\"../aws.env\")"
   ]
  },
  {
   "cell_type": "code",
   "execution_count": null,
   "metadata": {},
   "outputs": [],
   "source": [
    "superuser_login_data = {\n",
    "    \"username\": os.environ[\"FIRST_SUPERUSER\"],\n",
    "    \"password\": os.environ[\"FIRST_SUPERUSER_PASSWORD\"],\n",
    "}\n",
    "r = requests.post(f\"{api_url}/token\", data=superuser_login_data)\n",
    "tokens = r.json()\n",
    "a_token = tokens[\"access_token\"]\n",
    "superuser_token_headers = {\"Authorization\": f\"Bearer {a_token}\"}"
   ]
  },
  {
   "cell_type": "code",
   "execution_count": null,
   "metadata": {},
   "outputs": [],
   "source": [
    "# create app user\n",
    "user_dict = {\n",
    "  \"email\": os.environ[\"NLP_APP_EMAIL\"],\n",
    "  \"username\": os.environ[\"NLP_APP_USER\"],\n",
    "  \"password\": os.environ[\"NLP_APP_PASSWORD\"]\n",
    "}\n",
    "# r = requests.post(f\"{api_url}/users/\", json=user_dict, headers=superuser_token_headers)"
   ]
  },
  {
   "cell_type": "code",
   "execution_count": null,
   "metadata": {},
   "outputs": [],
   "source": [
    "r.status_code"
   ]
  },
  {
   "cell_type": "code",
   "execution_count": null,
   "metadata": {},
   "outputs": [],
   "source": [
    "# request token\n",
    "data_dict = {\n",
    "  \"username\": os.environ[\"NLP_APP_USER\"],\n",
    "  \"password\": os.environ[\"NLP_APP_PASSWORD\"]\n",
    "}\n",
    "r = requests.post(f\"{api_url}/token\", data=data_dict)"
   ]
  },
  {
   "cell_type": "code",
   "execution_count": null,
   "metadata": {},
   "outputs": [],
   "source": [
    "r.json()"
   ]
  }
 ],
 "metadata": {
  "kernelspec": {
   "display_name": "Python 3",
   "language": "python",
   "name": "python3"
  },
  "language_info": {
   "codemirror_mode": {
    "name": "ipython",
    "version": 3
   },
   "file_extension": ".py",
   "mimetype": "text/x-python",
   "name": "python",
   "nbconvert_exporter": "python",
   "pygments_lexer": "ipython3",
   "version": "3.8.2"
  }
 },
 "nbformat": 4,
 "nbformat_minor": 4
}
