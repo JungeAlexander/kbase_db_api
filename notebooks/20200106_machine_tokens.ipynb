{
 "cells": [
  {
   "cell_type": "markdown",
   "metadata": {},
   "source": [
    "# Create user accounts and access token for apps etc."
   ]
  },
  {
   "cell_type": "code",
   "execution_count": null,
   "metadata": {},
   "outputs": [],
   "source": [
    "import os\n",
    "import urllib.parse\n",
    "\n",
    "from dotenv import load_dotenv\n",
    "import requests"
   ]
  },
  {
   "cell_type": "code",
   "execution_count": null,
   "metadata": {},
   "outputs": [],
   "source": [
    "load_dotenv(\"../aws.env\")"
   ]
  },
  {
   "cell_type": "code",
   "execution_count": null,
   "metadata": {},
   "outputs": [],
   "source": [
    "api_url = urllib.parse.urljoin(os.environ[\"DBAPI_URL\"], os.environ[\"DBAPI_STAGE\"])"
   ]
  },
  {
   "cell_type": "code",
   "execution_count": null,
   "metadata": {},
   "outputs": [],
   "source": [
    "superuser_login_data = {\n",
    "    \"username\": os.environ[\"FIRST_SUPERUSER\"],\n",
    "    \"password\": os.environ[\"FIRST_SUPERUSER_PASSWORD\"],\n",
    "}\n",
    "r = requests.post(f\"{api_url}/token\", data=superuser_login_data)\n",
    "tokens = r.json()\n",
    "a_token = tokens[\"access_token\"]\n",
    "superuser_token_headers = {\"Authorization\": f\"Bearer {a_token}\"}"
   ]
  },
  {
   "cell_type": "markdown",
   "metadata": {},
   "source": [
    "# create app user"
   ]
  },
  {
   "cell_type": "code",
   "execution_count": null,
   "metadata": {},
   "outputs": [],
   "source": [
    "user_dict = {\n",
    "  \"email\": os.environ[\"NLP_APP_EMAIL\"],\n",
    "  \"username\": os.environ[\"NLP_APP_USER\"],\n",
    "  \"password\": os.environ[\"NLP_APP_PASSWORD\"]\n",
    "}\n",
    "#r = requests.post(f\"{api_url}/users/\", json=user_dict, headers=superuser_token_headers)"
   ]
  },
  {
   "cell_type": "code",
   "execution_count": null,
   "metadata": {},
   "outputs": [],
   "source": [
    "r.status_code"
   ]
  },
  {
   "cell_type": "code",
   "execution_count": null,
   "metadata": {},
   "outputs": [],
   "source": [
    "# request token\n",
    "data_dict = {\n",
    "  \"username\": os.environ[\"NLP_APP_USER\"],\n",
    "  \"password\": os.environ[\"NLP_APP_PASSWORD\"]\n",
    "}\n",
    "r = requests.post(f\"{api_url}/token\", data=data_dict)"
   ]
  },
  {
   "cell_type": "code",
   "execution_count": null,
   "metadata": {},
   "outputs": [],
   "source": [
    "r.json()"
   ]
  },
  {
   "cell_type": "markdown",
   "metadata": {},
   "source": [
    "# create normal user"
   ]
  },
  {
   "cell_type": "code",
   "execution_count": null,
   "metadata": {},
   "outputs": [],
   "source": [
    "user_dict = {\n",
    "  \"email\": os.environ[\"FIRST_USER_EMAIL\"],\n",
    "  \"username\": os.environ[\"FIRST_USER\"],\n",
    "  \"password\": os.environ[\"FIRST_USER_PASSWORD\"]\n",
    "}\n",
    "#r = requests.post(f\"{api_url}/users/\", json=user_dict, headers=superuser_token_headers)"
   ]
  },
  {
   "cell_type": "code",
   "execution_count": null,
   "metadata": {},
   "outputs": [],
   "source": [
    "r.status_code"
   ]
  },
  {
   "cell_type": "code",
   "execution_count": null,
   "metadata": {},
   "outputs": [],
   "source": [
    "# request token\n",
    "data_dict = {\n",
    "  \"username\": os.environ[\"FIRST_USER\"],\n",
    "  \"password\": os.environ[\"FIRST_USER_PASSWORD\"]\n",
    "}\n",
    "r = requests.post(f\"{api_url}/token\", data=data_dict)"
   ]
  },
  {
   "cell_type": "code",
   "execution_count": null,
   "metadata": {},
   "outputs": [],
   "source": [
    "r.json()"
   ]
  },
  {
   "cell_type": "markdown",
   "metadata": {},
   "source": [
    "# create airflow user"
   ]
  },
  {
   "cell_type": "code",
   "execution_count": null,
   "metadata": {},
   "outputs": [],
   "source": [
    "user_dict = {\n",
    "  \"email\": os.environ[\"AIRFLOW_EMAIL\"],\n",
    "  \"username\": os.environ[\"AIRFLOW_USER\"],\n",
    "  \"password\": os.environ[\"AIRFLOW_PASSWORD\"]\n",
    "}\n",
    "#r = requests.post(f\"{api_url}/users/\", json=user_dict, headers=superuser_token_headers)"
   ]
  },
  {
   "cell_type": "code",
   "execution_count": null,
   "metadata": {},
   "outputs": [],
   "source": [
    "r.status_code"
   ]
  },
  {
   "cell_type": "code",
   "execution_count": null,
   "metadata": {},
   "outputs": [],
   "source": [
    "# request token\n",
    "data_dict = {\n",
    "  \"username\": os.environ[\"AIRFLOW_USER\"],\n",
    "  \"password\": os.environ[\"AIRFLOW_PASSWORD\"]\n",
    "}\n",
    "r = requests.post(f\"{api_url}/token\", data=data_dict)"
   ]
  },
  {
   "cell_type": "code",
   "execution_count": null,
   "metadata": {},
   "outputs": [],
   "source": [
    "r.json()"
   ]
  }
 ],
 "metadata": {
  "kernelspec": {
   "display_name": "Python 3",
   "language": "python",
   "name": "python3"
  },
  "language_info": {
   "codemirror_mode": {
    "name": "ipython",
    "version": 3
   },
   "file_extension": ".py",
   "mimetype": "text/x-python",
   "name": "python",
   "nbconvert_exporter": "python",
   "pygments_lexer": "ipython3",
   "version": "3.8.2"
  }
 },
 "nbformat": 4,
 "nbformat_minor": 4
}
