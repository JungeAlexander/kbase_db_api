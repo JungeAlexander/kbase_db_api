{
 "cells": [
  {
   "cell_type": "code",
   "execution_count": null,
   "metadata": {},
   "outputs": [],
   "source": [
    "import requests\n",
    "import spacy"
   ]
  },
  {
   "cell_type": "code",
   "execution_count": null,
   "metadata": {},
   "outputs": [],
   "source": [
    "api_url = \"http://127.0.0.1:8000\""
   ]
  },
  {
   "cell_type": "code",
   "execution_count": null,
   "metadata": {},
   "outputs": [],
   "source": [
    "# model_name = \"en_ner_craft_md\"\n",
    "model_name = \"en_ner_bc5cdr_md\""
   ]
  },
  {
   "cell_type": "code",
   "execution_count": null,
   "metadata": {},
   "outputs": [],
   "source": [
    "ner = spacy.load(model_name)"
   ]
  },
  {
   "cell_type": "code",
   "execution_count": null,
   "metadata": {},
   "outputs": [],
   "source": [
    "ner.pipe_names"
   ]
  },
  {
   "cell_type": "code",
   "execution_count": null,
   "metadata": {},
   "outputs": [],
   "source": [
    "doc_ner = ner(\"Alterations in the hypocretin receptor 2 and preprohypocretin genes produce narcolepsy in some animals.\")\n",
    "\n",
    "for ent in doc_ner.ents:\n",
    "    print(ent.text, ent.label_, ent.start_char, ent.end_char, ent.start, ent.end)"
   ]
  },
  {
   "cell_type": "code",
   "execution_count": null,
   "metadata": {},
   "outputs": [],
   "source": [
    "doc_ner.to_json()"
   ]
  },
  {
   "cell_type": "code",
   "execution_count": null,
   "metadata": {},
   "outputs": [],
   "source": [
    "ner.meta"
   ]
  },
  {
   "cell_type": "code",
   "execution_count": null,
   "metadata": {},
   "outputs": [],
   "source": [
    "r = requests.get(\"http://127.0.0.1:8000/documents/?skip=0&limit=100\")\n",
    "j = r.json()\n",
    "j"
   ]
  },
  {
   "cell_type": "code",
   "execution_count": null,
   "metadata": {},
   "outputs": [],
   "source": [
    "ner_keys = [\"title\", \"summary\"]\n",
    "source_name = \"scispacy_\" + model_name"
   ]
  },
  {
   "cell_type": "code",
   "execution_count": null,
   "metadata": {},
   "outputs": [],
   "source": [
    "for doc in j:\n",
    "    # print(doc[\"id\"])\n",
    "    for key in ner_keys:\n",
    "        # print(key)\n",
    "        doc_ner = ner(doc[key])\n",
    "\n",
    "        for ent in doc_ner.ents:\n",
    "            # print(\"\\t\", ent.text, ent.label_, ent.start_char, ent.end_char, ent.start, ent.end)\n",
    "            entity_id = ent.label_ + \":\" + ent.text\n",
    "            entity_id = entity_id.replace(\"/\", \"_\").strip().replace(\" \", \"_\").lower()\n",
    "            \n",
    "            # check if entity exists and register if non-existant\n",
    "            r = requests.get(f\"{api_url}/entities/{entity_id}\")\n",
    "            if r.status_code == 404:\n",
    "                entity_post_json = {\n",
    "                  \"id\": entity_id,\n",
    "                  \"preferred_name\": ent.text,\n",
    "                  \"entity_type\": ent.label_,\n",
    "                  \"synonyms\": [\n",
    "                    ent.text\n",
    "                  ],\n",
    "                  \"source\": source_name\n",
    "                }\n",
    "                r = requests.post(f\"{api_url}/entities/\", json=entity_post_json)\n",
    "                assert r.status_code == 200\n",
    "            \n",
    "            # check if mention exists and register if non-existant\n",
    "            r = requests.get(f\"{api_url}/entities/{entity_id}/documents/{doc['id']}\")\n",
    "            j = r.json()\n",
    "            starts_ends = {(x['start_char'], x['end_char'], x['source']) for x in j}\n",
    "            if (ent.start_char, ent.end_char, source_name) not in starts_ends:\n",
    "                mention_json = {\n",
    "                  \"document_id\": doc[\"id\"],\n",
    "                  \"entity_id\": entity_id,\n",
    "                  \"text\": ent.text,\n",
    "                  \"document_section\": key,\n",
    "                  \"start_char\": ent.start_char,\n",
    "                  \"end_char\": ent.end_char,\n",
    "                  \"start_token\": ent.start,\n",
    "                  \"end_token\": ent.end,\n",
    "                  \"source\": source_name,\n",
    "                }\n",
    "                r = requests.post(f\"{api_url}/entity_mentions/\", json=mention_json)\n",
    "                assert r.status_code == 200"
   ]
  }
 ],
 "metadata": {
  "kernelspec": {
   "display_name": "Python 3",
   "language": "python",
   "name": "python3"
  },
  "language_info": {
   "codemirror_mode": {
    "name": "ipython",
    "version": 3
   },
   "file_extension": ".py",
   "mimetype": "text/x-python",
   "name": "python",
   "nbconvert_exporter": "python",
   "pygments_lexer": "ipython3",
   "version": "3.8.2"
  }
 },
 "nbformat": 4,
 "nbformat_minor": 4
}
