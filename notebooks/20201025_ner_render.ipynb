{
 "cells": [
  {
   "cell_type": "code",
   "execution_count": null,
   "metadata": {},
   "outputs": [],
   "source": [
    "import spacy\n",
    "from spacy import displacy\n",
    "\n",
    "import requests"
   ]
  },
  {
   "cell_type": "code",
   "execution_count": null,
   "metadata": {},
   "outputs": [],
   "source": [
    "spacy.__version__"
   ]
  },
  {
   "cell_type": "code",
   "execution_count": null,
   "metadata": {},
   "outputs": [],
   "source": [
    "api_url = \"http://127.0.0.1:8000\"\n",
    "doc_id = \"NCBI_Disease:10192393\""
   ]
  },
  {
   "cell_type": "code",
   "execution_count": null,
   "metadata": {},
   "outputs": [],
   "source": [
    "doc_req = requests.get(f\"{api_url}/documents/{doc_id}\")\n",
    "doc_json = doc_req.json()"
   ]
  },
  {
   "cell_type": "code",
   "execution_count": null,
   "metadata": {},
   "outputs": [],
   "source": [
    "def get_matches(doc_json, match_source, document_section=\"title\"):\n",
    "    start_end_labels = []\n",
    "    for ent in doc_json[\"entities\"]:\n",
    "        if ent[\"document_section\"] != document_section or ent[\"source\"] != match_source:\n",
    "            continue\n",
    "        # print(ent)\n",
    "        ent_req = requests.get(f\"{api_url}/entities/{ent['entity_id']}\")\n",
    "        ent_json = ent_req.json()\n",
    "        start = ent[\"start_char\"]\n",
    "        end = ent[\"end_char\"]\n",
    "        label = ent_json[\"entity_type\"]\n",
    "        start_end_labels.append([start, end, label])\n",
    "        start_end_labels = sorted(start_end_labels, key=lambda x: x[0])\n",
    "    return start_end_labels"
   ]
  },
  {
   "cell_type": "code",
   "execution_count": null,
   "metadata": {},
   "outputs": [],
   "source": [
    "def display_matches(text, labels, title):\n",
    "    colors = {\"DISEASE\": \"linear-gradient(90deg, #999999, #cccccc)\"}\n",
    "    options = {\"ents\": [\"DISEASE\"], \"colors\": colors}\n",
    "    ex = [{\"text\": text,\n",
    "       \"ents\": [{\"start\": x[0], \"end\": x[1], \"label\": x[2]} for x in labels],\n",
    "       \"title\": title}]\n",
    "    html = displacy.render(ex, style=\"ent\", manual=True, options=options)\n",
    "    return html"
   ]
  },
  {
   "cell_type": "code",
   "execution_count": null,
   "metadata": {},
   "outputs": [],
   "source": [
    "doc_text = doc_json[\"title\"]"
   ]
  },
  {
   "cell_type": "code",
   "execution_count": null,
   "metadata": {},
   "outputs": [],
   "source": [
    "m = display_matches(doc_text, get_matches(doc_json, \"NCBI_Disease_Train\"), \"NCBI Disease annotation\")"
   ]
  },
  {
   "cell_type": "code",
   "execution_count": null,
   "metadata": {},
   "outputs": [],
   "source": [
    "m = display_matches(doc_text, get_matches(doc_json, \"scispacy_en_ner_bc5cdr_md\"), \"scispacy_en_ner_bc5cdr_md NER\")"
   ]
  },
  {
   "cell_type": "markdown",
   "metadata": {},
   "source": [
    "## Metric-based evaluation"
   ]
  },
  {
   "cell_type": "code",
   "execution_count": null,
   "metadata": {},
   "outputs": [],
   "source": [
    "gold_matches = get_matches(doc_json, \"NCBI_Disease_Train\")\n",
    "gold_matches = {(x[0], x[1]) for x in gold_matches}\n",
    "gold_matches"
   ]
  },
  {
   "cell_type": "code",
   "execution_count": null,
   "metadata": {},
   "outputs": [],
   "source": [
    "ner_matches = get_matches(doc_json, \"scispacy_en_ner_bc5cdr_md\")\n",
    "ner_matches = {(x[0], x[1]) for x in ner_matches}\n",
    "ner_matches"
   ]
  },
  {
   "cell_type": "code",
   "execution_count": null,
   "metadata": {},
   "outputs": [],
   "source": [
    "import pandas as pd\n",
    "import os\n",
    "import sys\n",
    "\n",
    "sys.path.insert(0, os.path.abspath(os.path.join(os.getcwd(), \"..\")))\n",
    "\n",
    "from db_api.crud import precision_recall_fscore"
   ]
  },
  {
   "cell_type": "code",
   "execution_count": null,
   "metadata": {},
   "outputs": [],
   "source": [
    "precision_recall_fscore(ner_matches, gold_matches)"
   ]
  },
  {
   "cell_type": "code",
   "execution_count": null,
   "metadata": {},
   "outputs": [],
   "source": [
    "docs_req = requests.get(f\"{api_url}/documents/?skip=0&limit=500\")\n",
    "docs_json = docs_req.json()\n",
    "\n",
    "results = []\n",
    "for doc_json in docs_json:\n",
    "    ner_matches = get_matches(doc_json, \"scispacy_en_ner_bc5cdr_md\", document_section=\"summary\")\n",
    "    ner_matches = {(x[0], x[1]) for x in ner_matches}\n",
    "\n",
    "    gold_matches = get_matches(doc_json, \"NCBI_Disease_Train\", document_section=\"summary\")\n",
    "    gold_matches = {(x[0], x[1]) for x in gold_matches}\n",
    "    \n",
    "    precision, recall, fscore, tp, fp, fn = precision_recall_fscore(ner_matches, gold_matches)\n",
    "    results.append((doc_json[\"id\"], precision, recall, fscore, tp, fp, fn, len(gold_matches), len(ner_matches)))"
   ]
  },
  {
   "cell_type": "code",
   "execution_count": null,
   "metadata": {},
   "outputs": [],
   "source": [
    "results_df = pd.DataFrame(results, columns=[\"id\", \"precision\", \"recall\", \"fscore\", \"tp\", \"fp\", \"fn\",\n",
    "                                            \"len_gold_matches\", \"len_ner_matches\"])"
   ]
  },
  {
   "cell_type": "code",
   "execution_count": null,
   "metadata": {},
   "outputs": [],
   "source": [
    "results_df.sort_values(by=['len_gold_matches'], inplace=True, ascending=False)"
   ]
  },
  {
   "cell_type": "code",
   "execution_count": null,
   "metadata": {},
   "outputs": [],
   "source": [
    "results_df"
   ]
  },
  {
   "cell_type": "code",
   "execution_count": null,
   "metadata": {},
   "outputs": [],
   "source": [
    "doc_id = \"NCBI_Disease:10556285\"\n",
    "doc_req = requests.get(f\"{api_url}/documents/{doc_id}\")\n",
    "doc_json = doc_req.json()\n",
    "m = display_matches(doc_json[\"summary\"], get_matches(doc_json, \"NCBI_Disease_Train\", \"summary\"), \"NCBI Disease annotation\")"
   ]
  },
  {
   "cell_type": "code",
   "execution_count": null,
   "metadata": {},
   "outputs": [],
   "source": [
    "doc_id = \"NCBI_Disease:10556285\"\n",
    "doc_req = requests.get(f\"{api_url}/documents/{doc_id}\")\n",
    "doc_json = doc_req.json()\n",
    "m = display_matches(doc_json[\"summary\"], get_matches(doc_json, \"scispacy_en_ner_bc5cdr_md\", \"summary\"), \"scispacy_en_ner_bc5cdr_md NER\")"
   ]
  },
  {
   "cell_type": "code",
   "execution_count": null,
   "metadata": {},
   "outputs": [],
   "source": [
    "doc_id = \"NCBI_Disease:10192393\"\n",
    "doc_req = requests.get(f\"{api_url}/documents/{doc_id}\")\n",
    "doc_json = doc_req.json()\n",
    "m = display_matches(doc_json[\"summary\"], get_matches(doc_json, \"NCBI_Disease_Train\", \"summary\"), \"NCBI Disease annotation\")"
   ]
  },
  {
   "cell_type": "code",
   "execution_count": null,
   "metadata": {},
   "outputs": [],
   "source": [
    "doc_id = \"NCBI_Disease:10192393\"\n",
    "doc_req = requests.get(f\"{api_url}/documents/{doc_id}\")\n",
    "doc_json = doc_req.json()\n",
    "m = display_matches(doc_json[\"summary\"], get_matches(doc_json, \"scispacy_en_ner_bc5cdr_md\", \"summary\"), \"scispacy_en_ner_bc5cdr_md NER\")"
   ]
  }
 ],
 "metadata": {
  "kernelspec": {
   "display_name": "Python 3",
   "language": "python",
   "name": "python3"
  },
  "language_info": {
   "codemirror_mode": {
    "name": "ipython",
    "version": 3
   },
   "file_extension": ".py",
   "mimetype": "text/x-python",
   "name": "python",
   "nbconvert_exporter": "python",
   "pygments_lexer": "ipython3",
   "version": "3.8.2"
  }
 },
 "nbformat": 4,
 "nbformat_minor": 4
}
