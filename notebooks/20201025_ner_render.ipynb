{
 "cells": [
  {
   "cell_type": "code",
   "execution_count": null,
   "metadata": {},
   "outputs": [],
   "source": [
    "import spacy\n",
    "from spacy import displacy\n",
    "\n",
    "import requests"
   ]
  },
  {
   "cell_type": "code",
   "execution_count": null,
   "metadata": {},
   "outputs": [],
   "source": [
    "spacy.__version__"
   ]
  },
  {
   "cell_type": "code",
   "execution_count": null,
   "metadata": {},
   "outputs": [],
   "source": [
    "api_url = \"http://127.0.0.1:8000\"\n",
    "doc_id = \"NCBI_Disease:10192393\""
   ]
  },
  {
   "cell_type": "code",
   "execution_count": null,
   "metadata": {},
   "outputs": [],
   "source": [
    "doc_req = requests.get(f\"{api_url}/documents/{doc_id}\")\n",
    "doc_json = doc_req.json()"
   ]
  },
  {
   "cell_type": "code",
   "execution_count": null,
   "metadata": {},
   "outputs": [],
   "source": [
    "start_end_labels = []\n",
    "for ent in doc_json[\"entities\"]:\n",
    "    if ent[\"document_section\"] != \"title\" or ent[\"source\"] != \"NCBI_Disease_Train\":\n",
    "        continue\n",
    "    # print(ent)\n",
    "    ent_req = requests.get(f\"{api_url}/entities/{ent['entity_id']}\")\n",
    "    ent_json = ent_req.json()\n",
    "    start = ent[\"start_char\"]\n",
    "    end = ent[\"end_char\"]\n",
    "    label = ent_json[\"entity_type\"]\n",
    "    start_end_labels.append([start, end, label])"
   ]
  },
  {
   "cell_type": "code",
   "execution_count": null,
   "metadata": {},
   "outputs": [],
   "source": [
    "start_end_labels = sorted(start_end_labels, key=lambda x: x[0])"
   ]
  },
  {
   "cell_type": "code",
   "execution_count": null,
   "metadata": {},
   "outputs": [],
   "source": [
    "doc_text = doc_json[\"title\"]"
   ]
  },
  {
   "cell_type": "code",
   "execution_count": null,
   "metadata": {},
   "outputs": [],
   "source": [
    "start_end_labels"
   ]
  },
  {
   "cell_type": "code",
   "execution_count": null,
   "metadata": {},
   "outputs": [],
   "source": [
    "colors = {\"DISEASE\": \"linear-gradient(90deg, #999999, #cccccc)\"}\n",
    "options = {\"ents\": [\"DISEASE\"], \"colors\": colors}"
   ]
  },
  {
   "cell_type": "code",
   "execution_count": null,
   "metadata": {},
   "outputs": [],
   "source": [
    "ex = [{\"text\": doc_text,\n",
    "       \"ents\": [{\"start\": x[0], \"end\": x[1], \"label\": x[2]} for x in start_end_labels],\n",
    "       \"title\": \"Displacy test\"}]\n",
    "html = displacy.render(ex, style=\"ent\", manual=True, options=options)"
   ]
  }
 ],
 "metadata": {
  "kernelspec": {
   "display_name": "Python 3",
   "language": "python",
   "name": "python3"
  },
  "language_info": {
   "codemirror_mode": {
    "name": "ipython",
    "version": 3
   },
   "file_extension": ".py",
   "mimetype": "text/x-python",
   "name": "python",
   "nbconvert_exporter": "python",
   "pygments_lexer": "ipython3",
   "version": "3.8.2"
  }
 },
 "nbformat": 4,
 "nbformat_minor": 4
}
