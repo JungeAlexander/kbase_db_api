{
 "cells": [
  {
   "cell_type": "code",
   "execution_count": 3,
   "metadata": {},
   "outputs": [],
   "source": [
    "import gzip\n",
    "import os\n",
    "import sys\n",
    "\n",
    "from lxml import etree\n",
    "import pubmed_parser as pp"
   ]
  },
  {
   "cell_type": "code",
   "execution_count": 4,
   "metadata": {},
   "outputs": [],
   "source": [
    "sys.path.insert(0, os.path.abspath(os.path.join(os.getcwd(), \"..\", \"..\")))\n",
    "\n",
    "from db_api.models import Article\n",
    "from db_api.database import global_init, session_scope"
   ]
  },
  {
   "cell_type": "code",
   "execution_count": 5,
   "metadata": {},
   "outputs": [],
   "source": [
    "input_file_path = \"pubmed20n0477.xml.gz\""
   ]
  },
  {
   "cell_type": "code",
   "execution_count": 6,
   "metadata": {},
   "outputs": [],
   "source": [
    "with gzip.open(input_file_path, \"rb\") as input_file:\n",
    "    tree = etree.parse(input_file)"
   ]
  },
  {
   "cell_type": "code",
   "execution_count": 7,
   "metadata": {},
   "outputs": [],
   "source": [
    "root = tree.getroot()"
   ]
  },
  {
   "cell_type": "code",
   "execution_count": 8,
   "metadata": {},
   "outputs": [
    {
     "name": "stdout",
     "output_type": "stream",
     "text": [
      "PubmedArticleSet - \n",
      "  \n",
      "PubmedArticle - \n",
      "    \n",
      "MedlineCitation - \n",
      "      \n",
      "PMID - 14567079\n",
      "DateCompleted - \n",
      "        \n",
      "Year - 2003\n",
      "Month - 11\n",
      "Day - 12\n",
      "DateRevised - \n",
      "        \n",
      "Year - 2019\n",
      "Month - 11\n"
     ]
    }
   ],
   "source": [
    "for i, element in enumerate(root.iter()):\n",
    "    print(\"%s - %s\" % (element.tag, element.text))\n",
    "    if i >= 10:\n",
    "        break"
   ]
  },
  {
   "cell_type": "code",
   "execution_count": 13,
   "metadata": {},
   "outputs": [],
   "source": [
    "dict_out = pp.parse_medline_xml(input_file_path, year_info_only=False, author_list=False,\n",
    "    reference_list=True)"
   ]
  },
  {
   "cell_type": "code",
   "execution_count": 14,
   "metadata": {},
   "outputs": [
    {
     "data": {
      "text/plain": [
       "30000"
      ]
     },
     "execution_count": 14,
     "metadata": {},
     "output_type": "execute_result"
    }
   ],
   "source": [
    "len(dict_out)"
   ]
  },
  {
   "cell_type": "code",
   "execution_count": 19,
   "metadata": {},
   "outputs": [],
   "source": [
    "ad = dict_out[10]"
   ]
  },
  {
   "cell_type": "code",
   "execution_count": 20,
   "metadata": {},
   "outputs": [
    {
     "data": {
      "text/plain": [
       "{'title': '[Cytogenetic changes and their prognostic significance in elderly acute myeloid leukemia].',\n",
       " 'abstract': 'Cytogenetic analyses were performed in 72 acute myeloid leukemia (AML) patients > or = 60 years old. Karyotype was normal in 35 (48.6%) patients (group III). 3 patients (4.2%) had favourable karyotype with t(15;17) as an isolated aberration (group IV). 21 patients (29.2%) had adverse karyotypes (group I) and 13 (18%) had intermediate karyotypes (group II). Adverse karyotypes were simple (< 3 aberrations), with add 3q, 5q-, 7q-, in 5 persons, and complex (> or = 3 aberrations) in 16. Karyotypes of 14 patients from the latter group contained > or = 5 aberrations. Laboratory and clinical data were comparable between groups with > or = 3 and with > or = 5 changes. In more than 2/3 complex karyotypes chromosome 5 and 7 aberrations also were found. AML clinical course of group II patients was more similar to that of group I than of groups III and IV. A frequency of complete remissions differed statistically between group I and the others and a frequency of complete and partial remissions together--between I + II and III + IV groups. Overall survival time differed statistically between all groups. There were significantly more patients with secondary AML in groups I and II than in group III. Analysis according to FAB did not show prognostic significance of this classification. Authors conclude that cytogenetics have a fundamental prognostic importance in AML of the elderly and should be taken into account in establishing therapeutic strategies.',\n",
       " 'journal': 'Polskie Archiwum Medycyny Wewnetrznej',\n",
       " 'authors': 'O Haus;S Kotlarek-Haus;E Duszeńko;I Makowska;S Potoczek;E Nowak;B Jaźwiec;K Kuliczkowski',\n",
       " 'pubdate': '2003-06',\n",
       " 'pmid': '14567089',\n",
       " 'mesh_terms': 'D000368:Aged; D000369:Aged, 80 and over; D018450:Disease Progression; D005260:Female; D006801:Humans; D007621:Karyotyping; D015470:Leukemia, Myeloid, Acute; D008297:Male; D008875:Middle Aged; D011379:Prognosis',\n",
       " 'publication_types': 'D004740:English Abstract; D016428:Journal Article',\n",
       " 'chemical_list': '',\n",
       " 'keywords': '',\n",
       " 'doi': '',\n",
       " 'references': [],\n",
       " 'delete': False,\n",
       " 'affiliations': 'Katedra i Klinika Hematologii, Nowotworów Krwi i Transplantacji Szpiku AM we Wrocławiu. haus@aci.amb.bydgoszcz.pl',\n",
       " 'pmc': '',\n",
       " 'other_id': '',\n",
       " 'medline_ta': 'Pol Arch Med Wewn',\n",
       " 'nlm_unique_id': '0401225',\n",
       " 'issn_linking': '',\n",
       " 'country': 'Poland'}"
      ]
     },
     "execution_count": 20,
     "metadata": {},
     "output_type": "execute_result"
    }
   ],
   "source": [
    "ad"
   ]
  },
  {
   "cell_type": "code",
   "execution_count": 16,
   "metadata": {},
   "outputs": [],
   "source": [
    "article = Article()"
   ]
  },
  {
   "cell_type": "code",
   "execution_count": 21,
   "metadata": {},
   "outputs": [],
   "source": [
    "article.id = \"PMID:\" + ad[\"pmid\"]\n",
    "article.version = \"v1\"\n",
    "article.source \"PubMed\"\n",
    "article.journal = ad[\"journal\"]\n",
    "article.article_type = \"postprint\"\n",
    "article.title = ad[\"title\"]\n",
    "article.publication_date = ad[\"pubdate\"] #TODO\n",
    "article.update_date = date.today()\n",
    "article.modified_date = datetime.now()\n",
    "article.link = \"https://pubmed.ncbi.nlm.nih.gov/\" + ad[\"pmid\"]\n",
    "article.pmid = ad[\"pmid\"]\n",
    "article.doi = ad[\"doi\"]\n",
    "article.summary = ad[\"abstract\"]\n",
    "article.full_text = \"\"\n",
    "article.authors = [x.strip() for x in ad[\"authors\"].split(\";\") if x != \"\"]\n",
    "article.affiliations = [ad[\"affiliations\"]]\n",
    "article.language = \"\"\n",
    "article.keywords = [x.strip() for x in ad[\"keywords\"].split(\";\") if x != \"\"]\n",
    "article.references = ad[\"references\"]\n",
    "article.tags = [x.strip() for k in [\"mesh_terms\", \"publication_types\", \"chemical_list\"] for x in ad[k].split(\";\") if x != \"\"]"
   ]
  },
  {
   "cell_type": "code",
   "execution_count": 30,
   "metadata": {},
   "outputs": [
    {
     "data": {
      "text/plain": [
       "['']"
      ]
     },
     "execution_count": 30,
     "metadata": {},
     "output_type": "execute_result"
    }
   ],
   "source": [
    "[x.strip() for x in ad[\"keywords\"].split(\";\")]"
   ]
  },
  {
   "cell_type": "code",
   "execution_count": 10,
   "metadata": {},
   "outputs": [],
   "source": [
    "from datetime import date"
   ]
  },
  {
   "cell_type": "code",
   "execution_count": 11,
   "metadata": {},
   "outputs": [
    {
     "ename": "AttributeError",
     "evalue": "type object 'datetime.date' has no attribute 'fromisoformat'",
     "output_type": "error",
     "traceback": [
      "\u001b[0;31m---------------------------------------------------------------------------\u001b[0m",
      "\u001b[0;31mAttributeError\u001b[0m                            Traceback (most recent call last)",
      "\u001b[0;32m<ipython-input-11-0d006b0eb760>\u001b[0m in \u001b[0;36m<module>\u001b[0;34m\u001b[0m\n\u001b[0;32m----> 1\u001b[0;31m \u001b[0mdate\u001b[0m\u001b[0;34m.\u001b[0m\u001b[0mfromisoformat\u001b[0m\u001b[0;34m(\u001b[0m\u001b[0;34m'2019-12-04'\u001b[0m\u001b[0;34m)\u001b[0m\u001b[0;34m\u001b[0m\u001b[0;34m\u001b[0m\u001b[0m\n\u001b[0m",
      "\u001b[0;31mAttributeError\u001b[0m: type object 'datetime.date' has no attribute 'fromisoformat'"
     ]
    }
   ],
   "source": [
    "date.fromisoformat('2019-12-04')"
   ]
  },
  {
   "cell_type": "code",
   "execution_count": null,
   "metadata": {},
   "outputs": [],
   "source": [
    "date.fromisoformat('2019-12')"
   ]
  },
  {
   "cell_type": "code",
   "execution_count": null,
   "metadata": {},
   "outputs": [],
   "source": [
    "date.fromisoformat('2019')"
   ]
  }
 ],
 "metadata": {
  "kernelspec": {
   "display_name": "Python 3",
   "language": "python",
   "name": "python3"
  },
  "language_info": {
   "codemirror_mode": {
    "name": "ipython",
    "version": 3
   },
   "file_extension": ".py",
   "mimetype": "text/x-python",
   "name": "python",
   "nbconvert_exporter": "python",
   "pygments_lexer": "ipython3",
   "version": "3.6.7"
  }
 },
 "nbformat": 4,
 "nbformat_minor": 4
}
