{
 "cells": [
  {
   "cell_type": "code",
   "execution_count": null,
   "metadata": {},
   "outputs": [],
   "source": [
    "from datetime import date, datetime\n",
    "import gzip\n",
    "import os\n",
    "import sys\n",
    "\n",
    "from lxml import etree\n",
    "import pubmed_parser as pp"
   ]
  },
  {
   "cell_type": "code",
   "execution_count": null,
   "metadata": {},
   "outputs": [],
   "source": [
    "sys.path.insert(0, os.path.abspath(os.path.join(os.getcwd(), \"..\", \"..\")))\n",
    "\n",
    "from db_api.models import Article\n",
    "from db_api.database import global_init, session_scope"
   ]
  },
  {
   "cell_type": "code",
   "execution_count": null,
   "metadata": {},
   "outputs": [],
   "source": [
    "input_file_path = \"pubmed20n0477.xml.gz\""
   ]
  },
  {
   "cell_type": "code",
   "execution_count": null,
   "metadata": {},
   "outputs": [],
   "source": [
    "with gzip.open(input_file_path, \"rb\") as input_file:\n",
    "    tree = etree.parse(input_file)"
   ]
  },
  {
   "cell_type": "code",
   "execution_count": null,
   "metadata": {},
   "outputs": [],
   "source": [
    "root = tree.getroot()"
   ]
  },
  {
   "cell_type": "code",
   "execution_count": null,
   "metadata": {},
   "outputs": [],
   "source": [
    "for i, element in enumerate(root.iter()):\n",
    "    print(\"%s - %s\" % (element.tag, element.text))\n",
    "    if i >= 10:\n",
    "        break"
   ]
  },
  {
   "cell_type": "code",
   "execution_count": null,
   "metadata": {},
   "outputs": [],
   "source": [
    "dict_out = pp.parse_medline_xml(input_file_path, year_info_only=False, author_list=False,\n",
    "    reference_list=True)"
   ]
  },
  {
   "cell_type": "code",
   "execution_count": null,
   "metadata": {},
   "outputs": [],
   "source": [
    "len(dict_out)"
   ]
  },
  {
   "cell_type": "code",
   "execution_count": null,
   "metadata": {},
   "outputs": [],
   "source": [
    "ad = dict_out[10]"
   ]
  },
  {
   "cell_type": "code",
   "execution_count": null,
   "metadata": {},
   "outputs": [],
   "source": [
    "ad"
   ]
  },
  {
   "cell_type": "code",
   "execution_count": null,
   "metadata": {},
   "outputs": [],
   "source": [
    "article = Article()"
   ]
  },
  {
   "cell_type": "code",
   "execution_count": null,
   "metadata": {},
   "outputs": [],
   "source": [
    "article.id = \"PMID:\" + ad[\"pmid\"]\n",
    "article.version = \"v1\"\n",
    "article.source = \"PubMed\"\n",
    "article.journal = ad[\"journal\"]\n",
    "article.article_type = \"postprint\"\n",
    "article.title = ad[\"title\"]\n",
    "pubdate = ad[\"pubdate\"]\n",
    "pubdate_dashes = pubdate.count(\"-\")\n",
    "if pubdate_dashes == 2:  # format of parsed pubdate is YYYY-MM-DD\n",
    "    article.publication_date = date.fromisoformat(pubdate)\n",
    "elif pubdate_dashes == 1:  # format of parsed pubdate is YYYY-MM\n",
    "    article.publication_date = date.fromisoformat(pubdate + \"-01\")\n",
    "else:  # format of parsed pubdate is YYYY\n",
    "    article.publication_date = date.fromisoformat(pubdate + \"-01-01\")\n",
    "article.update_date = date.today()\n",
    "article.modified_date = datetime.now()\n",
    "article.link = \"https://pubmed.ncbi.nlm.nih.gov/\" + ad[\"pmid\"]\n",
    "article.pmid = ad[\"pmid\"]\n",
    "article.doi = ad[\"doi\"]\n",
    "article.summary = ad[\"abstract\"]\n",
    "article.full_text = \"\"\n",
    "article.authors = [x.strip() for x in ad[\"authors\"].split(\";\") if x != \"\"]\n",
    "article.affiliations = [ad[\"affiliations\"]]\n",
    "article.language = \"\"\n",
    "article.keywords = [x.strip() for x in ad[\"keywords\"].split(\";\") if x != \"\"]\n",
    "article.references = ad[\"references\"]\n",
    "article.tags = [x.strip() for k in [\"mesh_terms\", \"publication_types\", \"chemical_list\"] for x in ad[k].split(\";\") if x != \"\"]"
   ]
  }
 ],
 "metadata": {
  "kernelspec": {
   "display_name": "Python 3",
   "language": "python",
   "name": "python3"
  },
  "language_info": {
   "codemirror_mode": {
    "name": "ipython",
    "version": 3
   },
   "file_extension": ".py",
   "mimetype": "text/x-python",
   "name": "python",
   "nbconvert_exporter": "python",
   "pygments_lexer": "ipython3",
   "version": "3.8.2"
  }
 },
 "nbformat": 4,
 "nbformat_minor": 4
}
