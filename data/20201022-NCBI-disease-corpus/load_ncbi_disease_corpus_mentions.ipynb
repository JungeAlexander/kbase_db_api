{
 "cells": [
  {
   "cell_type": "code",
   "execution_count": null,
   "metadata": {},
   "outputs": [],
   "source": [
    "import re\n",
    "import requests"
   ]
  },
  {
   "cell_type": "code",
   "execution_count": null,
   "metadata": {},
   "outputs": [],
   "source": [
    "files = [\"NCBItrainset_corpus.txt\", \"NCBIdevelopset_corpus.txt\", \"NCBItestset_corpus.txt\"]\n",
    "source_names = [\"NCBI_Disease_Train\", \"NCBI_Disease_Dev\", \"NCBI_Disease_Test\"]"
   ]
  },
  {
   "cell_type": "code",
   "execution_count": null,
   "metadata": {},
   "outputs": [],
   "source": [
    "text_line_re = re.compile(\"^(\\d+)\\|(a|t)\\|(.*)\")\n",
    "mention_line_re = re.compile(\"^\\d+\\t\")"
   ]
  },
  {
   "cell_type": "code",
   "execution_count": null,
   "metadata": {},
   "outputs": [],
   "source": [
    "for file in files:\n",
    "    pmid = None\n",
    "    with open(file, \"rt\") as fin:\n",
    "        for i, line in enumerate(fin):\n",
    "            line = line.strip()\n",
    "#             if i < 19:\n",
    "#                 print(line)\n",
    "#             else:\n",
    "#                 break\n",
    "            if line == \"\":\n",
    "                continue\n",
    "            text_line_match = text_line_re.match(line)\n",
    "            mention_line_match = mention_line_re.match(line)\n",
    "            if text_line_match:\n",
    "                pmid = int(text_line_match.group(1))\n",
    "                text_type = text_line_match.group(2)\n",
    "                text = text_line_match.group(3)\n",
    "            elif mention_line_match:\n",
    "                pmid, start_char, end_char, match, match_type, id_ = line.split(\"\\t\")\n",
    "                pmid = int(pmid)\n",
    "                start_char = int(start_char)\n",
    "                end_char = int(end_char)\n",
    "            else:\n",
    "                raise Exception(f\"Could not parse following line:\\n{line}\")"
   ]
  }
 ],
 "metadata": {
  "kernelspec": {
   "display_name": "Python 3",
   "language": "python",
   "name": "python3"
  },
  "language_info": {
   "codemirror_mode": {
    "name": "ipython",
    "version": 3
   },
   "file_extension": ".py",
   "mimetype": "text/x-python",
   "name": "python",
   "nbconvert_exporter": "python",
   "pygments_lexer": "ipython3",
   "version": "3.8.2"
  }
 },
 "nbformat": 4,
 "nbformat_minor": 4
}
