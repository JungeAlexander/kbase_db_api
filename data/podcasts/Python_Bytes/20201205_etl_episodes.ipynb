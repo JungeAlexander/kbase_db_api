{
 "cells": [
  {
   "cell_type": "code",
   "execution_count": null,
   "metadata": {},
   "outputs": [],
   "source": [
    "from pathlib import Path\n",
    "import os\n",
    "import re\n",
    "\n",
    "import arrow\n",
    "from bs4 import BeautifulSoup\n",
    "from dotenv import load_dotenv\n",
    "from lxml import etree\n",
    "import requests"
   ]
  },
  {
   "cell_type": "code",
   "execution_count": null,
   "metadata": {},
   "outputs": [],
   "source": [
    "number_re = re.compile(\"^\\d+\")"
   ]
  },
  {
   "cell_type": "code",
   "execution_count": null,
   "metadata": {},
   "outputs": [],
   "source": [
    "def load_transcript(episode_number, file_re,\n",
    "                    transcripts_dir=\"transcripts\"):\n",
    "    p = Path(transcripts_dir)\n",
    "    for e in p.iterdir():\n",
    "        m = file_re.match(str(e.name))\n",
    "        if m and m.group(0) == f\"{episode_number:03}\":\n",
    "            with open(e, \"rt\") as fin:\n",
    "                c = fin.read()\n",
    "            return c"
   ]
  },
  {
   "cell_type": "code",
   "execution_count": null,
   "metadata": {},
   "outputs": [],
   "source": [
    "tree = etree.parse(\"20201121_rss_full_history\")"
   ]
  },
  {
   "cell_type": "code",
   "execution_count": null,
   "metadata": {},
   "outputs": [],
   "source": [
    "api_url = \"http://127.0.0.1:8000\""
   ]
  },
  {
   "cell_type": "code",
   "execution_count": null,
   "metadata": {},
   "outputs": [],
   "source": [
    "load_dotenv(\"../../../aws.env\")"
   ]
  },
  {
   "cell_type": "code",
   "execution_count": null,
   "metadata": {},
   "outputs": [],
   "source": [
    "superuser_login_data = {\n",
    "    \"username\": os.environ[\"FIRST_SUPERUSER\"],\n",
    "    \"password\": os.environ[\"FIRST_SUPERUSER_PASSWORD\"],\n",
    "}\n",
    "r = requests.post(f\"{api_url}/token\", data=superuser_login_data)\n",
    "tokens = r.json()\n",
    "a_token = tokens[\"access_token\"]\n",
    "superuser_token_headers = {\"Authorization\": f\"Bearer {a_token}\"}\n",
    "superuser_token_headers"
   ]
  },
  {
   "cell_type": "code",
   "execution_count": null,
   "metadata": {},
   "outputs": [],
   "source": [
    "root = tree.getroot()"
   ]
  },
  {
   "cell_type": "code",
   "execution_count": null,
   "metadata": {},
   "outputs": [],
   "source": [
    "for i, item in enumerate(root.iter(\"item\")):\n",
    "    # print(i)\n",
    "    tag_to_text = {}\n",
    "    for child in item:\n",
    "        # print(\"%s - %s\" % (child.tag, child.text))\n",
    "        tag_to_text[child.tag] = child.text\n",
    "    id_ = \"PythonBytes:\" + tag_to_text[\"{http://www.itunes.com/dtds/podcast-1.0.dtd}episode\"].strip()\n",
    "    assert len(id_) > 0\n",
    "    title = tag_to_text[\"{http://www.itunes.com/dtds/podcast-1.0.dtd}title\"].strip()\n",
    "    assert len(title) > 0\n",
    "    author = tag_to_text[\"{http://www.itunes.com/dtds/podcast-1.0.dtd}author\"].strip()\n",
    "    assert len(author) > 0\n",
    "    episode_number = tag_to_text[\"{http://www.itunes.com/dtds/podcast-1.0.dtd}episode\"].strip()\n",
    "    episode_number = int(episode_number)\n",
    "    d = tag_to_text[\"{http://www.itunes.com/dtds/podcast-1.0.dtd}duration\"].strip()\n",
    "    d = [int(x.strip()) for x in d.split(\":\")]\n",
    "    if len(d) == 2:\n",
    "        duration_in_seconds = d[0] * 60 + d[1]\n",
    "    elif len(d) == 3:\n",
    "        duration_in_seconds = d[0] * 3600 + d[1] * 60 + d[2]\n",
    "    else:\n",
    "        raise ValueError(d)\n",
    "    keywords = tag_to_text[\"{http://www.itunes.com/dtds/podcast-1.0.dtd}keywords\"].strip()\n",
    "    keywords = [x.strip() for x in keywords.split(\",\")]\n",
    "    raw_text = tag_to_text[\"description\"].strip()\n",
    "    assert len(raw_text) > 0\n",
    "    ## possible but not necessary here:\n",
    "    ## ensure that we separate some html elements as newlines\n",
    "    #raw_text = raw_text.replace(\"</div>\", \"\\n\")\n",
    "    #raw_text = raw_text.replace(\"</code>\", \"\\n\")\n",
    "    #raw_text = raw_text.replace(\"</li>\", \"\\n\")\n",
    "    #raw_text = raw_text.replace(\"</p>\", \"\\n\")\n",
    "    parsed_text = BeautifulSoup(raw_text, 'html.parser').get_text()\n",
    "    url = tag_to_text[\"link\"].strip()\n",
    "    publication_date = tag_to_text[\"pubDate\"]\n",
    "    publication_date = arrow.get(publication_date, \"D MMM YYYY\").format(\"YYYY-MM-DD\")\n",
    "    \n",
    "    # append transcript to both parsed and raw text\n",
    "    transcript = load_transcript(episode_number, number_re)\n",
    "    assert transcript\n",
    "    transcript = \"\\nEpisode transcript:\\n\" + transcript\n",
    "    raw_text += transcript\n",
    "    parsed_text += transcript\n",
    "\n",
    "    r = requests.get(f\"{api_url}/documents/{id_}\", headers=superuser_token_headers)\n",
    "    if r.status_code == 200:\n",
    "        print(f\"Exists: {id_}\")\n",
    "        continue\n",
    "        \n",
    "    doc_dict = {\n",
    "        \"id\": id_, \n",
    "        \"version\": \"1\",\n",
    "        \"source\": \"PythonBytes\",\n",
    "        \"title\": title,\n",
    "        \"document_type\": \"Podcast episode\",\n",
    "        \"authors\": [author],\n",
    "        \"publication_date\": publication_date,\n",
    "        \"update_date\": \"2020-12-05\",\n",
    "        \"urls\" : [url],\n",
    "        \"summary\": title,\n",
    "        \"raw_text\": raw_text,\n",
    "        \"raw_text_format\": \"HTML\",\n",
    "        \"parsed_text\": parsed_text,\n",
    "        \"language\": \"English\",\n",
    "        \"keywords\": keywords,\n",
    "        \"extra\": {\n",
    "            \"duration_in_seconds\": duration_in_seconds,\n",
    "            \"episode_number\": episode_number\n",
    "        }\n",
    "    }\n",
    "        \n",
    "    r = requests.post(f\"{api_url}/documents/\", json=doc_dict, headers=superuser_token_headers)\n",
    "    if r.status_code != 200:\n",
    "        print(f\"Failed: {id_}\")\n",
    "        continue"
   ]
  },
  {
   "cell_type": "code",
   "execution_count": null,
   "metadata": {},
   "outputs": [],
   "source": [
    "# soup = BeautifulSoup(raw_text, 'html.parser')\n",
    "# print(soup.prettify())"
   ]
  },
  {
   "cell_type": "code",
   "execution_count": null,
   "metadata": {},
   "outputs": [],
   "source": [
    "#print(parsed_text)"
   ]
  }
 ],
 "metadata": {
  "kernelspec": {
   "display_name": "Python 3",
   "language": "python",
   "name": "python3"
  },
  "language_info": {
   "codemirror_mode": {
    "name": "ipython",
    "version": 3
   },
   "file_extension": ".py",
   "mimetype": "text/x-python",
   "name": "python",
   "nbconvert_exporter": "python",
   "pygments_lexer": "ipython3",
   "version": "3.8.2"
  }
 },
 "nbformat": 4,
 "nbformat_minor": 4
}
