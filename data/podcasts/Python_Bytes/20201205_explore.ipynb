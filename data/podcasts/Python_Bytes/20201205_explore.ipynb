{
 "cells": [
  {
   "cell_type": "code",
   "execution_count": null,
   "metadata": {},
   "outputs": [],
   "source": [
    "from lxml import etree"
   ]
  },
  {
   "cell_type": "code",
   "execution_count": null,
   "metadata": {},
   "outputs": [],
   "source": [
    "import sys\n",
    "sys.path.insert(0, \"../../..\")"
   ]
  },
  {
   "cell_type": "code",
   "execution_count": null,
   "metadata": {},
   "outputs": [],
   "source": [
    "from db_api.schemas import DocumentCreate"
   ]
  },
  {
   "cell_type": "code",
   "execution_count": null,
   "metadata": {},
   "outputs": [],
   "source": [
    "d = DocumentCreate"
   ]
  },
  {
   "cell_type": "code",
   "execution_count": null,
   "metadata": {},
   "outputs": [],
   "source": [
    "tree = etree.parse(\"20201121_rss_full_history\")"
   ]
  },
  {
   "cell_type": "code",
   "execution_count": null,
   "metadata": {},
   "outputs": [],
   "source": [
    "root = tree.getroot()"
   ]
  },
  {
   "cell_type": "code",
   "execution_count": null,
   "metadata": {},
   "outputs": [],
   "source": [
    "for i, item in enumerate(root.iter(\"item\")):\n",
    "    # print(i)\n",
    "    tag_to_text = {}\n",
    "    for child in item:\n",
    "        print(\"%s - %s\" % (child.tag, child.text))\n",
    "        tag_to_text[child.tag] = child.text\n",
    "    _id = \"PythonBytes:\" + tag_to_text[\"{http://www.itunes.com/dtds/podcast-1.0.dtd}episode\"]\n",
    "    title = tag_to_text[\"{http://www.itunes.com/dtds/podcast-1.0.dtd}title\"]\n",
    "    author = tag_to_text[\"{http://www.itunes.com/dtds/podcast-1.0.dtd}author\"]\n",
    "    episode_number = tag_to_text[\"{http://www.itunes.com/dtds/podcast-1.0.dtd}episode\"]\n",
    "    duration_in_seconds = tag_to_text[\"{http://www.itunes.com/dtds/podcast-1.0.dtd}duration\"] # TODO\n",
    "    keywords = tag_to_text[\"{http://www.itunes.com/dtds/podcast-1.0.dtd}keywords\"]\n",
    "    text = tag_to_text[\"description\"]\n",
    "    url = tag_to_text[\"link\"]\n",
    "    break"
   ]
  },
  {
   "cell_type": "code",
   "execution_count": null,
   "metadata": {},
   "outputs": [],
   "source": [
    "etree.tostring(item)"
   ]
  }
 ],
 "metadata": {
  "kernelspec": {
   "display_name": "Python 3",
   "language": "python",
   "name": "python3"
  },
  "language_info": {
   "codemirror_mode": {
    "name": "ipython",
    "version": 3
   },
   "file_extension": ".py",
   "mimetype": "text/x-python",
   "name": "python",
   "nbconvert_exporter": "python",
   "pygments_lexer": "ipython3",
   "version": "3.8.2"
  }
 },
 "nbformat": 4,
 "nbformat_minor": 4
}
